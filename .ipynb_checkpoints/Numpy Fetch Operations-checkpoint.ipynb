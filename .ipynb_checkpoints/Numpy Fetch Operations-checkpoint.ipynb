{
 "cells": [
  {
   "cell_type": "markdown",
   "id": "d901db73",
   "metadata": {},
   "source": [
    "Operations to get elements or properties of an array"
   ]
  },
  {
   "cell_type": "code",
   "execution_count": 6,
   "id": "ecd1b969",
   "metadata": {},
   "outputs": [],
   "source": [
    "import numpy as np"
   ]
  },
  {
   "cell_type": "code",
   "execution_count": 16,
   "id": "2c01b58d",
   "metadata": {},
   "outputs": [
    {
     "name": "stdout",
     "output_type": "stream",
     "text": [
      "[ 0  1  2  3  4  5  6  7  8  9 10]\n"
     ]
    }
   ],
   "source": [
    "an_array = np.arange(0, 11)\n",
    "print(an_array)"
   ]
  },
  {
   "cell_type": "code",
   "execution_count": 17,
   "id": "820f66d3",
   "metadata": {},
   "outputs": [
    {
     "name": "stdout",
     "output_type": "stream",
     "text": [
      "First: 0\n",
      "Last: 10\n"
     ]
    }
   ],
   "source": [
    "first = an_array[0]\n",
    "last = an_array[len(an_array)-1]\n",
    "print(\"First\", first, sep=\": \")\n",
    "print(\"Last\", last, sep=\": \")"
   ]
  },
  {
   "cell_type": "markdown",
   "id": "f53de9b5",
   "metadata": {},
   "source": [
    "Acces Multiple Elements"
   ]
  },
  {
   "cell_type": "code",
   "execution_count": 21,
   "id": "c79e42ff",
   "metadata": {},
   "outputs": [
    {
     "name": "stdout",
     "output_type": "stream",
     "text": [
      "[0 1 2 3 4]\n",
      "[ 5  6  7  8  9 10]\n"
     ]
    }
   ],
   "source": [
    "first_five = an_array[:5]\n",
    "print(first_five)\n",
    "five_to_end = an_array[5:]\n",
    "print(five_to_end)"
   ]
  },
  {
   "cell_type": "markdown",
   "id": "2e0b4836",
   "metadata": {},
   "source": [
    "Stride Length"
   ]
  },
  {
   "cell_type": "code",
   "execution_count": 24,
   "id": "b4297556",
   "metadata": {},
   "outputs": [
    {
     "name": "stdout",
     "output_type": "stream",
     "text": [
      "[5 7 9]\n"
     ]
    }
   ],
   "source": [
    "# Stride by two\n",
    "stride_by_to = an_array[5::2]\n",
    "print(stride_by_to)"
   ]
  },
  {
   "cell_type": "code",
   "execution_count": 28,
   "id": "fc69ee2e",
   "metadata": {},
   "outputs": [
    {
     "name": "stdout",
     "output_type": "stream",
     "text": [
      "[4 3 2 1 0]\n"
     ]
    }
   ],
   "source": [
    "first_five_reversed = an_array[4::-1]\n",
    "print(first_five_reversed)"
   ]
  },
  {
   "cell_type": "code",
   "execution_count": 29,
   "id": "fcab230c",
   "metadata": {},
   "outputs": [
    {
     "name": "stdout",
     "output_type": "stream",
     "text": [
      "[ 9 10]\n"
     ]
    }
   ],
   "source": [
    "final_two = an_array[-2:]\n",
    "print(final_two)"
   ]
  },
  {
   "cell_type": "code",
   "execution_count": 31,
   "id": "6a777ed5",
   "metadata": {},
   "outputs": [
    {
     "name": "stdout",
     "output_type": "stream",
     "text": [
      "11\n"
     ]
    }
   ],
   "source": [
    "# get length\n",
    "print(an_array.size)"
   ]
  },
  {
   "cell_type": "code",
   "execution_count": 32,
   "id": "7a24f2aa",
   "metadata": {},
   "outputs": [
    {
     "name": "stdout",
     "output_type": "stream",
     "text": [
      "10\n"
     ]
    }
   ],
   "source": [
    "# get max value in array\n",
    "print(np.amax(an_array))"
   ]
  },
  {
   "cell_type": "code",
   "execution_count": 34,
   "id": "cd5dc358",
   "metadata": {},
   "outputs": [
    {
     "name": "stdout",
     "output_type": "stream",
     "text": [
      "0\n"
     ]
    }
   ],
   "source": [
    "# get min value in array\n",
    "print(np.amin(an_array))"
   ]
  },
  {
   "cell_type": "code",
   "execution_count": 35,
   "id": "aa14713e",
   "metadata": {},
   "outputs": [
    {
     "name": "stdout",
     "output_type": "stream",
     "text": [
      "5.0\n"
     ]
    }
   ],
   "source": [
    "# get average value in array\n",
    "print(np.average(an_array))"
   ]
  }
 ],
 "metadata": {
  "kernelspec": {
   "display_name": "Python 3 (ipykernel)",
   "language": "python",
   "name": "python3"
  },
  "language_info": {
   "codemirror_mode": {
    "name": "ipython",
    "version": 3
   },
   "file_extension": ".py",
   "mimetype": "text/x-python",
   "name": "python",
   "nbconvert_exporter": "python",
   "pygments_lexer": "ipython3",
   "version": "3.9.6"
  }
 },
 "nbformat": 4,
 "nbformat_minor": 5
}
