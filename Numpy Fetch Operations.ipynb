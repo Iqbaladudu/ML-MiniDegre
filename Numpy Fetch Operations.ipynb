{
 "cells": [
  {
   "cell_type": "markdown",
   "id": "03be96cc",
   "metadata": {},
   "source": [
    "Operations to get elements or properties of an array"
   ]
  },
  {
   "cell_type": "code",
   "execution_count": 6,
   "id": "3be76668",
   "metadata": {},
   "outputs": [],
   "source": [
    "import numpy as np"
   ]
  },
  {
   "cell_type": "code",
   "execution_count": 16,
   "id": "b782db18",
   "metadata": {},
   "outputs": [
    {
     "name": "stdout",
     "output_type": "stream",
     "text": [
      "[ 0  1  2  3  4  5  6  7  8  9 10]\n"
     ]
    }
   ],
   "source": [
    "an_array = np.arange(0, 11)\n",
    "print(an_array)"
   ]
  },
  {
   "cell_type": "code",
   "execution_count": 17,
   "id": "eed5f230",
   "metadata": {},
   "outputs": [
    {
     "name": "stdout",
     "output_type": "stream",
     "text": [
      "First: 0\n",
      "Last: 10\n"
     ]
    }
   ],
   "source": [
    "first = an_array[0]\n",
    "last = an_array[len(an_array)-1]\n",
    "print(\"First\", first, sep=\": \")\n",
    "print(\"Last\", last, sep=\": \")"
   ]
  },
  {
   "cell_type": "markdown",
   "id": "04754cb3",
   "metadata": {},
   "source": [
    "Acces Multiple Elements"
   ]
  },
  {
   "cell_type": "code",
   "execution_count": 21,
   "id": "c5134ab1",
   "metadata": {},
   "outputs": [
    {
     "name": "stdout",
     "output_type": "stream",
     "text": [
      "[0 1 2 3 4]\n",
      "[ 5  6  7  8  9 10]\n"
     ]
    }
   ],
   "source": [
    "first_five = an_array[:5]\n",
    "print(first_five)\n",
    "five_to_end = an_array[5:]\n",
    "print(five_to_end)"
   ]
  },
  {
   "cell_type": "markdown",
   "id": "0ae82069",
   "metadata": {},
   "source": [
    "Stride Length"
   ]
  },
  {
   "cell_type": "code",
   "execution_count": 24,
   "id": "0a11777e",
   "metadata": {},
   "outputs": [
    {
     "name": "stdout",
     "output_type": "stream",
     "text": [
      "[5 7 9]\n"
     ]
    }
   ],
   "source": [
    "# Stride by two\n",
    "stride_by_to = an_array[5::2]\n",
    "print(stride_by_to)"
   ]
  },
  {
   "cell_type": "code",
   "execution_count": 28,
   "id": "660eb4b4",
   "metadata": {},
   "outputs": [
    {
     "name": "stdout",
     "output_type": "stream",
     "text": [
      "[4 3 2 1 0]\n"
     ]
    }
   ],
   "source": [
    "first_five_reversed = an_array[4::-1]\n",
    "print(first_five_reversed)"
   ]
  },
  {
   "cell_type": "code",
   "execution_count": 29,
   "id": "ee653ab1",
   "metadata": {},
   "outputs": [
    {
     "name": "stdout",
     "output_type": "stream",
     "text": [
      "[ 9 10]\n"
     ]
    }
   ],
   "source": [
    "final_two = an_array[-2:]\n",
    "print(final_two)"
   ]
  },
  {
   "cell_type": "code",
   "execution_count": 31,
   "id": "b7c9d614",
   "metadata": {},
   "outputs": [
    {
     "name": "stdout",
     "output_type": "stream",
     "text": [
      "11\n"
     ]
    }
   ],
   "source": [
    "# get length\n",
    "print(an_array.size)"
   ]
  },
  {
   "cell_type": "code",
   "execution_count": 32,
   "id": "cad33dc1",
   "metadata": {},
   "outputs": [
    {
     "name": "stdout",
     "output_type": "stream",
     "text": [
      "10\n"
     ]
    }
   ],
   "source": [
    "# get max value in array\n",
    "print(np.amax(an_array))"
   ]
  },
  {
   "cell_type": "code",
   "execution_count": null,
   "id": "9fb22c2c",
   "metadata": {},
   "outputs": [],
   "source": [
    "# get min val in array"
   ]
  }
 ],
 "metadata": {
  "kernelspec": {
   "display_name": "Python 3 (ipykernel)",
   "language": "python",
   "name": "python3"
  },
  "language_info": {
   "codemirror_mode": {
    "name": "ipython",
    "version": 3
   },
   "file_extension": ".py",
   "mimetype": "text/x-python",
   "name": "python",
   "nbconvert_exporter": "python",
   "pygments_lexer": "ipython3",
   "version": "3.9.6"
  }
 },
 "nbformat": 4,
 "nbformat_minor": 5
}
