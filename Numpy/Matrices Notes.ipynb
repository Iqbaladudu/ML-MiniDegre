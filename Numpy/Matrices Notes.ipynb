{
 "cells": [
  {
   "cell_type": "markdown",
   "id": "e275e371",
   "metadata": {},
   "source": [
    "# What are matrices?"
   ]
  },
  {
   "cell_type": "markdown",
   "id": "e5a9b58b",
   "metadata": {},
   "source": [
    "1. A Matrix is a multidimensional array\n",
    "2. Essentially an array of arrays\n",
    "3. Used in images, geological data, machine learning, and anything graph related"
   ]
  }
 ],
 "metadata": {
  "kernelspec": {
   "display_name": "Python 3 (ipykernel)",
   "language": "python",
   "name": "python3"
  },
  "language_info": {
   "codemirror_mode": {
    "name": "ipython",
    "version": 3
   },
   "file_extension": ".py",
   "mimetype": "text/x-python",
   "name": "python",
   "nbconvert_exporter": "python",
   "pygments_lexer": "ipython3",
   "version": "3.9.6"
  }
 },
 "nbformat": 4,
 "nbformat_minor": 5
}
