{
 "cells": [
  {
   "cell_type": "markdown",
   "id": "bfd0d2b8",
   "metadata": {},
   "source": [
    "Practice what we have learned in previous parts"
   ]
  },
  {
   "cell_type": "code",
   "execution_count": 1,
   "id": "8b70d52f",
   "metadata": {},
   "outputs": [],
   "source": [
    "import numpy as np"
   ]
  },
  {
   "cell_type": "code",
   "execution_count": 4,
   "id": "ffb739e7",
   "metadata": {},
   "outputs": [
    {
     "name": "stdout",
     "output_type": "stream",
     "text": [
      "[56 78 98 90 58 64 67 72 93 51]\n"
     ]
    }
   ],
   "source": [
    "student_grades = np.array([56, 78, 98, 90, 58, 64, 67, 72, 93, 51])\n",
    "print(student_grades)"
   ]
  },
  {
   "cell_type": "code",
   "execution_count": 7,
   "id": "02227254",
   "metadata": {},
   "outputs": [
    {
     "name": "stdout",
     "output_type": "stream",
     "text": [
      "72.7\n"
     ]
    }
   ],
   "source": [
    "class_average = np.average(student_grades)\n",
    "print(class_average)"
   ]
  },
  {
   "cell_type": "code",
   "execution_count": 11,
   "id": "bba5185e",
   "metadata": {},
   "outputs": [
    {
     "name": "stdout",
     "output_type": "stream",
     "text": [
      "Highest Grade: 98\n"
     ]
    }
   ],
   "source": [
    "highest_grade = np.amax(student_grades)\n",
    "print(f\"Highest Grade: {highest_grade}\")"
   ]
  },
  {
   "cell_type": "code",
   "execution_count": 13,
   "id": "b9406057",
   "metadata": {},
   "outputs": [
    {
     "name": "stdout",
     "output_type": "stream",
     "text": [
      "Lowest Grade: 51\n"
     ]
    }
   ],
   "source": [
    "lowest_grade = np.amin(student_grades)\n",
    "print(f\"Lowest Grade: {lowest_grade}\")"
   ]
  },
  {
   "cell_type": "code",
   "execution_count": 15,
   "id": "1b4cc433",
   "metadata": {},
   "outputs": [],
   "source": [
    "# Get index of minimum or maximum value in the array"
   ]
  },
  {
   "cell_type": "code",
   "execution_count": 19,
   "id": "2fb52d38",
   "metadata": {},
   "outputs": [
    {
     "name": "stdout",
     "output_type": "stream",
     "text": [
      "The highest value is at index 2\n",
      "The minimum value is at index 9\n"
     ]
    }
   ],
   "source": [
    "print(f\"The highest value is at index {np.argmax(student_grades)}\")\n",
    "print(f\"The minimum value is at index {np.argmin(student_grades)}\")"
   ]
  },
  {
   "cell_type": "code",
   "execution_count": 22,
   "id": "e5fc8526",
   "metadata": {},
   "outputs": [
    {
     "name": "stdout",
     "output_type": "stream",
     "text": [
      "Sort to ascending order: [51 56 58 64 67 72 78 90 93 98]\n",
      "Sort to descending order: [98 93 90 78 72 67 64 58 56 51]\n"
     ]
    }
   ],
   "source": [
    "print(f\"Sort to ascending order: {np.sort(student_grades)}\")\n",
    "print(f\"Sort to descending order: {-np.sort(-student_grades)}\")"
   ]
  },
  {
   "cell_type": "code",
   "execution_count": 32,
   "id": "4f3fe08e",
   "metadata": {},
   "outputs": [
    {
     "name": "stdout",
     "output_type": "stream",
     "text": [
      "Original value: [56 78 98 90 58 64 67 72 93 51]\n",
      "After increase 10% value all of items: [ 61.6  85.8 107.8  99.   63.8  70.4  73.7  79.2 102.3  56.1]\n"
     ]
    }
   ],
   "source": [
    "increased_grades = student_grades * 1.1\n",
    "print(f\"Original value: {student_grades}\")\n",
    "print(f\"After increase 10% value all of items: {increased_grades}\")"
   ]
  },
  {
   "cell_type": "code",
   "execution_count": 34,
   "id": "467ba8ec",
   "metadata": {},
   "outputs": [
    {
     "name": "stdout",
     "output_type": "stream",
     "text": [
      "Original value: [56 78 98 90 58 64 67 72 93 51]\n",
      "Add 10 points to all items: [ 66  88 108 100  68  74  77  82 103  61]\n"
     ]
    }
   ],
   "source": [
    "extra_point = student_grades + 10\n",
    "print(f\"Original value: {student_grades}\")\n",
    "print(f\"Add 10 points to all items: {extra_point}\")"
   ]
  },
  {
   "cell_type": "code",
   "execution_count": 39,
   "id": "36e04022",
   "metadata": {},
   "outputs": [
    {
     "name": "stdout",
     "output_type": "stream",
     "text": [
      "Add ones array to all items: [57. 79. 99. 91. 59. 65. 68. 73. 94. 52.]\n"
     ]
    }
   ],
   "source": [
    "# Add Array with Array\n",
    "print(f\"Add ones array to all items: {np.add(student_grades, np.ones(10))}\")"
   ]
  },
  {
   "cell_type": "code",
   "execution_count": null,
   "id": "e591b4b3",
   "metadata": {},
   "outputs": [],
   "source": []
  }
 ],
 "metadata": {
  "kernelspec": {
   "display_name": "Python 3 (ipykernel)",
   "language": "python",
   "name": "python3"
  },
  "language_info": {
   "codemirror_mode": {
    "name": "ipython",
    "version": 3
   },
   "file_extension": ".py",
   "mimetype": "text/x-python",
   "name": "python",
   "nbconvert_exporter": "python",
   "pygments_lexer": "ipython3",
   "version": "3.9.6"
  }
 },
 "nbformat": 4,
 "nbformat_minor": 5
}
