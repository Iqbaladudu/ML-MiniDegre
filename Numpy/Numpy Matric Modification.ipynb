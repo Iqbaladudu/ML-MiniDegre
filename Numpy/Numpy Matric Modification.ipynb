{
 "cells": [
  {
   "cell_type": "markdown",
   "id": "9a9419cb",
   "metadata": {},
   "source": [
    "Function to modify elements or properties of a matrix"
   ]
  },
  {
   "cell_type": "code",
   "execution_count": 1,
   "id": "8871b74d",
   "metadata": {},
   "outputs": [],
   "source": [
    "import numpy as np"
   ]
  },
  {
   "cell_type": "code",
   "execution_count": 6,
   "id": "26b9c5b2",
   "metadata": {},
   "outputs": [
    {
     "data": {
      "text/plain": [
       "matrix([[1, 2],\n",
       "        [3, 4]])"
      ]
     },
     "execution_count": 6,
     "metadata": {},
     "output_type": "execute_result"
    }
   ],
   "source": [
    "a_matrix = np.matrix('1 2; 3 4')\n",
    "a_matrix"
   ]
  },
  {
   "cell_type": "code",
   "execution_count": 10,
   "id": "9a8aa9f7",
   "metadata": {},
   "outputs": [
    {
     "name": "stdout",
     "output_type": "stream",
     "text": [
      "10\n",
      "[[ 1  2]\n",
      " [10  4]]\n"
     ]
    }
   ],
   "source": [
    "# Update value\n",
    "print(a_matrix[1, 0])\n",
    "a_matrix[1, 0] = 10\n",
    "print(a_matrix)"
   ]
  },
  {
   "cell_type": "code",
   "execution_count": 12,
   "id": "c146bf1c",
   "metadata": {},
   "outputs": [
    {
     "name": "stdout",
     "output_type": "stream",
     "text": [
      "[[6 3]]\n",
      "[[ 6  3]\n",
      " [10  4]]\n"
     ]
    }
   ],
   "source": [
    "print(a_matrix[0])\n",
    "a_matrix[0] = [6, 3]\n",
    "print(a_matrix)"
   ]
  },
  {
   "cell_type": "code",
   "execution_count": 14,
   "id": "f6e0b945",
   "metadata": {},
   "outputs": [
    {
     "name": "stdout",
     "output_type": "stream",
     "text": [
      "[[ 3  6]\n",
      " [ 4 10]]\n"
     ]
    }
   ],
   "source": [
    "print(np.sort(a_matrix))"
   ]
  },
  {
   "cell_type": "code",
   "execution_count": 16,
   "id": "e6aa93bf",
   "metadata": {},
   "outputs": [
    {
     "name": "stdout",
     "output_type": "stream",
     "text": [
      "[[ 6  3]\n",
      " [10  4]]\n"
     ]
    }
   ],
   "source": [
    "print(-np.sort(-a_matrix))"
   ]
  },
  {
   "cell_type": "code",
   "execution_count": 46,
   "id": "d50c63e0",
   "metadata": {},
   "outputs": [
    {
     "name": "stdout",
     "output_type": "stream",
     "text": [
      "[[1 2]\n",
      " [3 4]]\n",
      "[[1 3]\n",
      " [2 4]]\n"
     ]
    }
   ],
   "source": [
    "a_matrix = np.matrix('1 2; 3, 4')\n",
    "print(a_matrix)\n",
    "print(a_matrix.T) # .T is for transpose"
   ]
  },
  {
   "cell_type": "code",
   "execution_count": 47,
   "id": "38953534",
   "metadata": {},
   "outputs": [],
   "source": [
    "# Flatten Operation"
   ]
  },
  {
   "cell_type": "code",
   "execution_count": 48,
   "id": "fac72c79",
   "metadata": {},
   "outputs": [
    {
     "name": "stdout",
     "output_type": "stream",
     "text": [
      "[[1 2 3 4]]\n"
     ]
    }
   ],
   "source": [
    "print(a_matrix.flatten()) # make matrix to one row"
   ]
  },
  {
   "cell_type": "code",
   "execution_count": 49,
   "id": "1fff9960",
   "metadata": {},
   "outputs": [
    {
     "name": "stdout",
     "output_type": "stream",
     "text": [
      "[[2 3]\n",
      " [4 5]]\n"
     ]
    }
   ],
   "source": [
    "print(a_matrix + 1) # Add all values w/ 1"
   ]
  },
  {
   "cell_type": "code",
   "execution_count": 50,
   "id": "282f7dee",
   "metadata": {},
   "outputs": [
    {
     "name": "stdout",
     "output_type": "stream",
     "text": [
      "[[2 4]\n",
      " [6 8]]\n"
     ]
    }
   ],
   "source": [
    "# Sum two matrix\n",
    "print(np.add(a_matrix, a_matrix))"
   ]
  },
  {
   "cell_type": "code",
   "execution_count": 54,
   "id": "d575a786",
   "metadata": {},
   "outputs": [
    {
     "name": "stdout",
     "output_type": "stream",
     "text": [
      "[[ 7 10]\n",
      " [15 22]]\n"
     ]
    }
   ],
   "source": [
    "# Multiply\n",
    "print(np.matmul(a_matrix, a_matrix))"
   ]
  }
 ],
 "metadata": {
  "kernelspec": {
   "display_name": "Python 3 (ipykernel)",
   "language": "python",
   "name": "python3"
  },
  "language_info": {
   "codemirror_mode": {
    "name": "ipython",
    "version": 3
   },
   "file_extension": ".py",
   "mimetype": "text/x-python",
   "name": "python",
   "nbconvert_exporter": "python",
   "pygments_lexer": "ipython3",
   "version": "3.9.6"
  }
 },
 "nbformat": 4,
 "nbformat_minor": 5
}
