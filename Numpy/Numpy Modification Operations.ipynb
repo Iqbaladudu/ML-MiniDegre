{
 "cells": [
  {
   "cell_type": "markdown",
   "id": "a08241c6",
   "metadata": {},
   "source": [
    "Operations to modify numpy array or the elements within"
   ]
  },
  {
   "cell_type": "code",
   "execution_count": 1,
   "id": "7b18e503",
   "metadata": {},
   "outputs": [],
   "source": [
    "import numpy as np"
   ]
  },
  {
   "cell_type": "code",
   "execution_count": 2,
   "id": "3d9d39e2",
   "metadata": {},
   "outputs": [
    {
     "name": "stdout",
     "output_type": "stream",
     "text": [
      "[0 1 2 3 4 5]\n"
     ]
    }
   ],
   "source": [
    "an_array = np.arange(0, 6)\n",
    "print(an_array)"
   ]
  },
  {
   "cell_type": "code",
   "execution_count": 4,
   "id": "370ac302",
   "metadata": {},
   "outputs": [
    {
     "name": "stdout",
     "output_type": "stream",
     "text": [
      "[10  1  2  3  4  5]\n"
     ]
    }
   ],
   "source": [
    "an_array[0] = 10\n",
    "print(an_array)"
   ]
  },
  {
   "cell_type": "code",
   "execution_count": 6,
   "id": "475e90e7",
   "metadata": {},
   "outputs": [],
   "source": [
    "an_array = np.arange(0, 6)"
   ]
  },
  {
   "cell_type": "code",
   "execution_count": 8,
   "id": "5c633189",
   "metadata": {},
   "outputs": [
    {
     "data": {
      "text/plain": [
       "array([0, 1, 2, 3, 4, 5, 6])"
      ]
     },
     "execution_count": 8,
     "metadata": {},
     "output_type": "execute_result"
    }
   ],
   "source": [
    "# Append, add new data in the end of array\n",
    "np.append(an_array, 6)"
   ]
  },
  {
   "cell_type": "code",
   "execution_count": 10,
   "id": "3d8a3665",
   "metadata": {},
   "outputs": [
    {
     "data": {
      "text/plain": [
       "array([0, 1, 2, 3, 4, 5, 6, 7, 8, 9])"
      ]
     },
     "execution_count": 10,
     "metadata": {},
     "output_type": "execute_result"
    }
   ],
   "source": [
    "np.append(an_array, [6, 7, 8, 9])"
   ]
  },
  {
   "cell_type": "code",
   "execution_count": 16,
   "id": "f081e53a",
   "metadata": {},
   "outputs": [
    {
     "name": "stdout",
     "output_type": "stream",
     "text": [
      "[10 11  0  1  2  3  4  5]\n",
      "[ 0 10 11  1  2  3  4  5]\n",
      "[ 0  1 10 11  2  3  4  5]\n"
     ]
    }
   ],
   "source": [
    "# Insert, based on start point index\n",
    "print(np.insert(an_array, 0, [10, 11]))\n",
    "print(np.insert(an_array, 1, [10, 11]))\n",
    "print(np.insert(an_array, 2, [10, 11]))"
   ]
  },
  {
   "cell_type": "code",
   "execution_count": 20,
   "id": "567b15f4",
   "metadata": {
    "scrolled": true
   },
   "outputs": [
    {
     "name": "stdout",
     "output_type": "stream",
     "text": [
      "Before deleting: [0 1 2 3 4 5]\n",
      "After deleting third index: [0 1 2 4 5]\n"
     ]
    }
   ],
   "source": [
    "# delete\n",
    "print(f\"Before deleting: {an_array}\")\n",
    "print(f\"After deleting third index: {np.delete(an_array, 3)}\")"
   ]
  },
  {
   "cell_type": "code",
   "execution_count": 23,
   "id": "4e8a419d",
   "metadata": {},
   "outputs": [
    {
     "name": "stdout",
     "output_type": "stream",
     "text": [
      "Multiply all of elements by 2: [ 0  2  4  6  8 10]\n",
      "We also can peform addition: [2 3 4 5 6 7]\n"
     ]
    }
   ],
   "source": [
    "# Array Operation\n",
    "print(f\"Multiply all of elements by 2: {an_array * 2}\")\n",
    "print(f\"We also can peform addition: {an_array + 2}\")"
   ]
  },
  {
   "cell_type": "code",
   "execution_count": 38,
   "id": "9686c777",
   "metadata": {},
   "outputs": [
    {
     "name": "stdout",
     "output_type": "stream",
     "text": [
      "Before sorting the data: [ 3  6 21  9 10  1]\n",
      "After sorting the data: [ 1  3  6  9 10 21]\n"
     ]
    }
   ],
   "source": [
    "# Sorting\n",
    "another_array = np.array([3, 6, 21, 9, 10, 1])\n",
    "print(f\"Before sorting the data: {another_array}\")\n",
    "print(f\"After sorting the data: {np.sort(another_array)}\")"
   ]
  },
  {
   "cell_type": "code",
   "execution_count": 39,
   "id": "b9772729",
   "metadata": {},
   "outputs": [
    {
     "name": "stdout",
     "output_type": "stream",
     "text": [
      "Covert all of data to negative and sort them: [ -1  -3  -6  -9 -10 -21]\n",
      "Descending order with negative value: [-21 -10  -9  -6  -3  -1]\n",
      "Descending order with positive value: [21 10  9  6  3  1]\n"
     ]
    }
   ],
   "source": [
    "print(f\"Covert all of data to negative and sort them: {-np.sort(another_array)}\")\n",
    "print(f\"Descending order with negative value: {np.sort(-another_array)}\")\n",
    "print(f\"Descending order with positive value: {-np.sort(-another_array)}\")"
   ]
  },
  {
   "cell_type": "code",
   "execution_count": null,
   "id": "aa94dc90",
   "metadata": {},
   "outputs": [],
   "source": []
  }
 ],
 "metadata": {
  "kernelspec": {
   "display_name": "Python 3 (ipykernel)",
   "language": "python",
   "name": "python3"
  },
  "language_info": {
   "codemirror_mode": {
    "name": "ipython",
    "version": 3
   },
   "file_extension": ".py",
   "mimetype": "text/x-python",
   "name": "python",
   "nbconvert_exporter": "python",
   "pygments_lexer": "ipython3",
   "version": "3.9.6"
  }
 },
 "nbformat": 4,
 "nbformat_minor": 5
}
