{
 "cells": [
  {
   "cell_type": "markdown",
   "id": "48c278ab",
   "metadata": {},
   "source": [
    "Creating Numpy Arrays"
   ]
  },
  {
   "cell_type": "code",
   "execution_count": 1,
   "id": "4ec6e68d",
   "metadata": {},
   "outputs": [
    {
     "name": "stdout",
     "output_type": "stream",
     "text": [
      "[1, 2, 3]\n"
     ]
    }
   ],
   "source": [
    "list_1 = [1, 2, 3]\n",
    "print(list_1)"
   ]
  },
  {
   "cell_type": "code",
   "execution_count": 2,
   "id": "e32bd6a8",
   "metadata": {},
   "outputs": [],
   "source": [
    "import numpy as np"
   ]
  },
  {
   "cell_type": "code",
   "execution_count": 4,
   "id": "274ed41d",
   "metadata": {},
   "outputs": [],
   "source": [
    "numpy_1 = np.array(list_1)"
   ]
  },
  {
   "cell_type": "code",
   "execution_count": 8,
   "id": "09ed103c",
   "metadata": {},
   "outputs": [
    {
     "name": "stdout",
     "output_type": "stream",
     "text": [
      "[1 2 3]\n"
     ]
    }
   ],
   "source": [
    "print(numpy_1)"
   ]
  },
  {
   "cell_type": "code",
   "execution_count": 12,
   "id": "08e879de",
   "metadata": {},
   "outputs": [
    {
     "name": "stdout",
     "output_type": "stream",
     "text": [
      "[0. 0. 0. 0. 0. 0. 0. 0. 0. 0.]\n"
     ]
    }
   ],
   "source": [
    "zeros_array = np.zeros(10)\n",
    "print(zeros_array)"
   ]
  },
  {
   "cell_type": "code",
   "execution_count": 16,
   "id": "fa288f24",
   "metadata": {},
   "outputs": [
    {
     "name": "stdout",
     "output_type": "stream",
     "text": [
      "[1. 1. 1. 1. 1. 1. 1. 1. 1. 1.]\n"
     ]
    }
   ],
   "source": [
    "ones_array = np.ones(10)\n",
    "print(ones_array)"
   ]
  },
  {
   "cell_type": "markdown",
   "id": "e967e456",
   "metadata": {},
   "source": [
    "Make Range Array"
   ]
  },
  {
   "cell_type": "code",
   "execution_count": 21,
   "id": "95789880",
   "metadata": {},
   "outputs": [
    {
     "name": "stdout",
     "output_type": "stream",
     "text": [
      "[1 2 3 4]\n"
     ]
    }
   ],
   "source": [
    "range_array = np.arange(1, 5)\n",
    "print(range_array)"
   ]
  },
  {
   "cell_type": "code",
   "execution_count": 23,
   "id": "0deb607f",
   "metadata": {},
   "outputs": [
    {
     "name": "stdout",
     "output_type": "stream",
     "text": [
      "[ 0  1  2  3  4  5  6  7  8  9 10]\n"
     ]
    }
   ],
   "source": [
    "range_array_2 = np.arange(11)\n",
    "print(range_array_2)"
   ]
  },
  {
   "cell_type": "code",
   "execution_count": 31,
   "id": "eb279677",
   "metadata": {},
   "outputs": [
    {
     "name": "stdout",
     "output_type": "stream",
     "text": [
      "[ 0  2  4  6  8 10 12 14 16 18 20]\n"
     ]
    }
   ],
   "source": [
    "range_array_3 = np.arange(0, 21, 2)\n",
    "print(range_array_3)"
   ]
  },
  {
   "cell_type": "markdown",
   "id": "6a7d24f2",
   "metadata": {},
   "source": [
    "form ==> np.linspace(<min num>, <max num>, <number of number between min to max num>"
   ]
  },
  {
   "cell_type": "code",
   "execution_count": 35,
   "id": "47e97143",
   "metadata": {},
   "outputs": [
    {
     "name": "stdout",
     "output_type": "stream",
     "text": [
      "[  0.  25.  50.  75. 100.]\n"
     ]
    }
   ],
   "source": [
    "linspace_array = np.linspace(0, 100, 5)\n",
    "print(linspace_array)"
   ]
  },
  {
   "cell_type": "markdown",
   "id": "927a1cfe",
   "metadata": {},
   "source": [
    "If we not spicify the third parameter, he will be 50 elements"
   ]
  },
  {
   "cell_type": "code",
   "execution_count": 40,
   "id": "54ff3c13",
   "metadata": {},
   "outputs": [
    {
     "name": "stdout",
     "output_type": "stream",
     "text": [
      "Total Elements: 50\n",
      "[  0.          10.20408163  20.40816327  30.6122449   40.81632653\n",
      "  51.02040816  61.2244898   71.42857143  81.63265306  91.83673469\n",
      " 102.04081633 112.24489796 122.44897959 132.65306122 142.85714286\n",
      " 153.06122449 163.26530612 173.46938776 183.67346939 193.87755102\n",
      " 204.08163265 214.28571429 224.48979592 234.69387755 244.89795918\n",
      " 255.10204082 265.30612245 275.51020408 285.71428571 295.91836735\n",
      " 306.12244898 316.32653061 326.53061224 336.73469388 346.93877551\n",
      " 357.14285714 367.34693878 377.55102041 387.75510204 397.95918367\n",
      " 408.16326531 418.36734694 428.57142857 438.7755102  448.97959184\n",
      " 459.18367347 469.3877551  479.59183673 489.79591837 500.        ]\n"
     ]
    }
   ],
   "source": [
    "linspace_array_1 = np.linspace(0, 500)\n",
    "print(\"Total Elements\",len(linspace_array_1), sep=\": \")\n",
    "print(linspace_array_1)"
   ]
  }
 ],
 "metadata": {
  "kernelspec": {
   "display_name": "Python 3 (ipykernel)",
   "language": "python",
   "name": "python3"
  },
  "language_info": {
   "codemirror_mode": {
    "name": "ipython",
    "version": 3
   },
   "file_extension": ".py",
   "mimetype": "text/x-python",
   "name": "python",
   "nbconvert_exporter": "python",
   "pygments_lexer": "ipython3",
   "version": "3.9.6"
  }
 },
 "nbformat": 4,
 "nbformat_minor": 5
}
