{
 "cells": [
  {
   "cell_type": "markdown",
   "id": "c7088154",
   "metadata": {},
   "source": [
    "Functions to get elements or properties of metrices"
   ]
  },
  {
   "cell_type": "code",
   "execution_count": 1,
   "id": "88c906db",
   "metadata": {},
   "outputs": [],
   "source": [
    "import numpy as np"
   ]
  },
  {
   "cell_type": "code",
   "execution_count": 3,
   "id": "aae2cec3",
   "metadata": {},
   "outputs": [
    {
     "name": "stdout",
     "output_type": "stream",
     "text": [
      "[[1 2 3]\n",
      " [4 5 6]\n",
      " [7 8 9]]\n"
     ]
    }
   ],
   "source": [
    "a_matrix = np.matrix('1, 2, 3; 4, 5, 6; 7, 8, 9')\n",
    "print(a_matrix)"
   ]
  },
  {
   "cell_type": "code",
   "execution_count": 5,
   "id": "57e270db",
   "metadata": {},
   "outputs": [
    {
     "data": {
      "text/plain": [
       "matrix([[1, 2, 3]])"
      ]
     },
     "execution_count": 5,
     "metadata": {},
     "output_type": "execute_result"
    }
   ],
   "source": [
    "a_matrix[0]"
   ]
  },
  {
   "cell_type": "code",
   "execution_count": 7,
   "id": "d7d3865f",
   "metadata": {},
   "outputs": [
    {
     "data": {
      "text/plain": [
       "4"
      ]
     },
     "execution_count": 7,
     "metadata": {},
     "output_type": "execute_result"
    }
   ],
   "source": [
    "# fetch data specified\n",
    "a_matrix[1, 0] # first parameter is index of arrays, second parameter is items for sub arrays"
   ]
  },
  {
   "cell_type": "code",
   "execution_count": 10,
   "id": "8cecf557",
   "metadata": {},
   "outputs": [
    {
     "data": {
      "text/plain": [
       "9"
      ]
     },
     "execution_count": 10,
     "metadata": {},
     "output_type": "execute_result"
    }
   ],
   "source": [
    "a_matrix[2, 2]"
   ]
  },
  {
   "cell_type": "code",
   "execution_count": 12,
   "id": "9227e388",
   "metadata": {},
   "outputs": [
    {
     "name": "stdout",
     "output_type": "stream",
     "text": [
      "[[7 8 9]]\n"
     ]
    }
   ],
   "source": [
    "print(a_matrix[2, 1:])"
   ]
  }
 ],
 "metadata": {
  "kernelspec": {
   "display_name": "Python 3 (ipykernel)",
   "language": "python",
   "name": "python3"
  },
  "language_info": {
   "codemirror_mode": {
    "name": "ipython",
    "version": 3
   },
   "file_extension": ".py",
   "mimetype": "text/x-python",
   "name": "python",
   "nbconvert_exporter": "python",
   "pygments_lexer": "ipython3",
   "version": "3.9.6"
  }
 },
 "nbformat": 4,
 "nbformat_minor": 5
}
