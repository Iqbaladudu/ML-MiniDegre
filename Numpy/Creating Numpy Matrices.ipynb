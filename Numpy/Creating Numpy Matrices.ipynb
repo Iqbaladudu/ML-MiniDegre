{
 "cells": [
  {
   "cell_type": "markdown",
   "id": "f5abb341",
   "metadata": {},
   "source": [
    "Create Matrices in Numpy"
   ]
  },
  {
   "cell_type": "code",
   "execution_count": 1,
   "id": "def88442",
   "metadata": {},
   "outputs": [],
   "source": [
    "import numpy as np"
   ]
  },
  {
   "cell_type": "code",
   "execution_count": 6,
   "id": "857f112f",
   "metadata": {},
   "outputs": [
    {
     "name": "stdout",
     "output_type": "stream",
     "text": [
      "[[1 2]\n",
      " [3 4]]\n"
     ]
    }
   ],
   "source": [
    "# 2 x 2 Matrix\n",
    "two_by_two = np.matrix([[1, 2], [3, 4]])\n",
    "print(two_by_two)"
   ]
  },
  {
   "cell_type": "code",
   "execution_count": 10,
   "id": "f0828ac3",
   "metadata": {},
   "outputs": [
    {
     "name": "stdout",
     "output_type": "stream",
     "text": [
      "<class 'numpy.matrix'>\n",
      "[[1 2]\n",
      " [3 4]\n",
      " [5 6]]\n"
     ]
    }
   ],
   "source": [
    "two_by_three = np.matrix([[1,2],[3, 4], [5, 6]])\n",
    "print(type(two_by_three))\n",
    "print(two_by_three)"
   ]
  },
  {
   "cell_type": "code",
   "execution_count": 12,
   "id": "75320015",
   "metadata": {},
   "outputs": [
    {
     "name": "stdout",
     "output_type": "stream",
     "text": [
      "[[1 2]\n",
      " [3 4]\n",
      " [5 6]\n",
      " [7 8]]\n"
     ]
    }
   ],
   "source": [
    "two_by_four = np.matrix('1, 2; 3, 4; 5, 6; 7, 8')\n",
    "print(two_by_four)"
   ]
  },
  {
   "cell_type": "markdown",
   "id": "85474400",
   "metadata": {},
   "source": [
    "* Make zeros or ones matrices\n",
    "    * np.zeros(rows, cols)"
   ]
  },
  {
   "cell_type": "code",
   "execution_count": 20,
   "id": "d68e63bc",
   "metadata": {},
   "outputs": [
    {
     "data": {
      "text/plain": [
       "array([[1., 1., 1.],\n",
       "       [1., 1., 1.]])"
      ]
     },
     "execution_count": 20,
     "metadata": {},
     "output_type": "execute_result"
    }
   ],
   "source": [
    "np.ones([2, 3]) # 2 rows, 3 columns"
   ]
  },
  {
   "cell_type": "code",
   "execution_count": 23,
   "id": "59bd2fee",
   "metadata": {},
   "outputs": [
    {
     "data": {
      "text/plain": [
       "array([[0., 0., 0., 0., 0., 0.],\n",
       "       [0., 0., 0., 0., 0., 0.],\n",
       "       [0., 0., 0., 0., 0., 0.],\n",
       "       [0., 0., 0., 0., 0., 0.],\n",
       "       [0., 0., 0., 0., 0., 0.]])"
      ]
     },
     "execution_count": 23,
     "metadata": {},
     "output_type": "execute_result"
    }
   ],
   "source": [
    "np.zeros([5, 6]) # 5 rows, 6 columns"
   ]
  },
  {
   "cell_type": "code",
   "execution_count": null,
   "id": "02bf7847",
   "metadata": {},
   "outputs": [],
   "source": []
  }
 ],
 "metadata": {
  "kernelspec": {
   "display_name": "Python 3 (ipykernel)",
   "language": "python",
   "name": "python3"
  },
  "language_info": {
   "codemirror_mode": {
    "name": "ipython",
    "version": 3
   },
   "file_extension": ".py",
   "mimetype": "text/x-python",
   "name": "python",
   "nbconvert_exporter": "python",
   "pygments_lexer": "ipython3",
   "version": "3.9.6"
  }
 },
 "nbformat": 4,
 "nbformat_minor": 5
}
